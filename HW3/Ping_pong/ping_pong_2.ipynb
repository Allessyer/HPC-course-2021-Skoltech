{
  "nbformat": 4,
  "nbformat_minor": 0,
  "metadata": {
    "colab": {
      "name": "ping_pong_2.ipynb",
      "provenance": [],
      "collapsed_sections": []
    },
    "kernelspec": {
      "name": "python3",
      "display_name": "Python 3"
    },
    "language_info": {
      "name": "python"
    }
  },
  "cells": [
    {
      "cell_type": "code",
      "metadata": {
        "colab": {
          "base_uri": "https://localhost:8080/"
        },
        "id": "3Obo3f6ojYdS",
        "outputId": "5d9dbdb2-38cc-4f13-ea0b-ab4243727a11"
      },
      "source": [
        "%%writefile ping_pong_2.cpp\n",
        "\n",
        "#include <mpi.h>\n",
        "#include \"mpi.h\"\n",
        "#include <stdio.h>\n",
        "#include <stdlib.h>\n",
        "#include <time.h>\n",
        "#include <unistd.h>\n",
        "#include <vector>\n",
        "#include <algorithm>\n",
        "#include <cstdlib> \n",
        "\n",
        "using namespace std;\n",
        "\n",
        "void add_to_passed_list(vector<int>& passed_list, int prank)\n",
        "{\n",
        "    passed_list[0]++; // update number of played players. \n",
        "    passed_list[passed_list[0]] = prank;\n",
        "}\n",
        "\n",
        "int send_to_process(vector<int>& passed_list, int psize)\n",
        "{\n",
        "    srand(time(NULL));\n",
        "    vector<int> not_passed;\n",
        "\n",
        "    for (int i = 0; i< psize;i++)\n",
        "    {\n",
        "        std::vector<int>::iterator it;\n",
        "        it = find(passed_list.begin()+1,passed_list.end(), i);\n",
        "        if (it == passed_list.end())\n",
        "        {\n",
        "            not_passed.push_back(i);\n",
        "        }\n",
        "    }\n",
        "    \n",
        "    if (not_passed.empty())\n",
        "    {\n",
        "         //cout << \"All players passed the ball!\" << endl;\n",
        "         return 100;\n",
        "    }\n",
        "    else\n",
        "    {        \n",
        "        int rand_index = rand() % not_passed.size();\n",
        "        return not_passed[rand_index];\n",
        "    }\n",
        "\n",
        "}\n",
        "\n",
        "void print_array(vector<int>& arr, int N) {\n",
        "    for (int i = 0; i < N; ++i)\n",
        "        printf(\"%d \", arr[i]);\n",
        "    printf(\"\\n\");\n",
        "}\n",
        "\n",
        "int main(int argc, char ** argv) \n",
        "{\n",
        "    int psize;\n",
        "    int prank;\n",
        "    MPI_Status status;\n",
        "    int ierr;\n",
        " \n",
        "    double time_elapsed;\n",
        "\n",
        "    ierr = MPI_Init(&argc, &argv);\n",
        "    ierr = MPI_Comm_rank(MPI_COMM_WORLD, &prank);\n",
        "    ierr = MPI_Comm_size(MPI_COMM_WORLD, &psize);\n",
        "    time_elapsed = MPI_Wtime();\n",
        "    \n",
        "    vector<int> passed_list;\n",
        "    passed_list.push_back(0); // number of played processors\n",
        "    for (int i = 0; i < psize; i++)\n",
        "    {\n",
        "        passed_list.push_back(100); // played vector\n",
        "    }\n",
        "\n",
        "    if (prank == 0)\n",
        "    {\n",
        "        //init_players(not_passed,psize);\n",
        "        \n",
        "        add_to_passed_list(passed_list, prank);\n",
        "        //print_array(passed_list, passed_list.size());\n",
        "\n",
        "        int to_process = 1;\n",
        " \n",
        "\t      MPI_Ssend(&passed_list[0],psize+1, MPI_INT, 1, 13, MPI_COMM_WORLD);\n",
        "    }\n",
        "    else\n",
        "    {\n",
        "    \tMPI_Recv(&passed_list[0],psize+1, MPI_INT, MPI_ANY_SOURCE, 13, MPI_COMM_WORLD, &status);\n",
        "    \t//print_array(passed_list, passed_list.size());\n",
        "\t    add_to_passed_list(passed_list, prank);\n",
        "\t\n",
        "\t    int to_process = send_to_process(passed_list, psize);\n",
        "\t    if (to_process != 100)\n",
        "\t    {\n",
        "\t        MPI_Ssend(&passed_list[0],psize+1, MPI_INT, to_process, 13, MPI_COMM_WORLD);\n",
        "\t    } \t\n",
        "    }\n",
        " \n",
        "    time_elapsed = MPI_Wtime() - time_elapsed;\n",
        "    cout << time_elapsed << endl;\n",
        "    \n",
        "    ierr = MPI_Finalize();\n",
        "\n",
        "    return 0;\n",
        "\n",
        "}\n"
      ],
      "execution_count": 1,
      "outputs": [
        {
          "output_type": "stream",
          "text": [
            "Writing ping_pong_2.cpp\n"
          ],
          "name": "stdout"
        }
      ]
    },
    {
      "cell_type": "code",
      "metadata": {
        "id": "oGx4c7cdji1o"
      },
      "source": [
        "!mpic++ ping_pong_2.cpp -o ping_pong_2"
      ],
      "execution_count": null,
      "outputs": []
    },
    {
      "cell_type": "code",
      "metadata": {
        "colab": {
          "base_uri": "https://localhost:8080/"
        },
        "id": "DdxAVgsGjosY",
        "outputId": "14a09273-1a16-4746-fd7f-a60fb86adcb5"
      },
      "source": [
        "!mpirun --allow-run-as-root -n 3 ./ping_pong_2 "
      ],
      "execution_count": null,
      "outputs": [
        {
          "output_type": "stream",
          "text": [
            "0.00227287\n",
            "0.00021435\n",
            "0.00033832\n"
          ],
          "name": "stdout"
        }
      ]
    },
    {
      "cell_type": "code",
      "metadata": {
        "id": "Z0rWFo5j8Go2"
      },
      "source": [
        "!rm ftime*"
      ],
      "execution_count": null,
      "outputs": []
    },
    {
      "cell_type": "code",
      "metadata": {
        "id": "4VCxaWGC9OaE"
      },
      "source": [
        "import matplotlib.pyplot as plt\n",
        "\n",
        "iteration = {}\n",
        "time = []\n",
        "total_time = []\n",
        "for i in range(2,7):\n",
        "  iteration[f'{i}'] = []\n",
        "  X = []\n",
        "  for line in open(f'text_{i}.txt', 'r'):\n",
        "    values = [float(s) for s in line.split()]\n",
        "    X.append(values)\n",
        "\n",
        "  result = 0\n",
        "  for x in X:\n",
        "    iteration[f'{i}'].append(x[0])\n",
        "    result += x[0]\n",
        "  total_time.append(result)\n",
        "  result = result/len(X)\n",
        "  time.append(result)"
      ],
      "execution_count": 2,
      "outputs": []
    },
    {
      "cell_type": "code",
      "metadata": {
        "colab": {
          "base_uri": "https://localhost:8080/"
        },
        "id": "9myz3kZ-DKGl",
        "outputId": "b81bc428-60c0-4b9a-9b61-dc15fc183349"
      },
      "source": [
        "iteration"
      ],
      "execution_count": null,
      "outputs": [
        {
          "output_type": "execute_result",
          "data": {
            "text/plain": [
              "{'2': [1.5079e-05, 3.2897e-05],\n",
              " '3': [1.8873e-05, 4.338e-05, 4.6607e-05],\n",
              " '4': [3.8876e-05, 5.2603e-05, 1.7816e-05, 2.5174e-05],\n",
              " '5': [4.4044e-05, 1.9284e-05, 2.761e-05, 5.963e-05, 4.8742e-05],\n",
              " '6': [1.7286e-05,\n",
              "  5.231e-05,\n",
              "  0.000130169,\n",
              "  2.4727e-05,\n",
              "  0.000169992,\n",
              "  0.000142276]}"
            ]
          },
          "metadata": {
            "tags": []
          },
          "execution_count": 56
        }
      ]
    },
    {
      "cell_type": "code",
      "metadata": {
        "colab": {
          "base_uri": "https://localhost:8080/",
          "height": 470
        },
        "id": "JsoHxUf08DEm",
        "outputId": "46da377b-1b62-41a0-84ca-44591630dd32"
      },
      "source": [
        "import matplotlib.pyplot as plt\n",
        "import numpy as np\n",
        "\n",
        "plt.figure(figsize=(11,7))\n",
        "\n",
        "plt.plot(np.arange(2,7), total_time)\n",
        "\n",
        "plt.title('Message length vs the performance total time',fontsize=15)\n",
        "plt.xlabel('Message length',fontsize=15)\n",
        "plt.ylabel('Total time',fontsize=15)\n",
        "plt.tick_params(labelcolor='gray', labelsize=15, width=3)\n",
        "plt.grid()\n",
        "plt.show()"
      ],
      "execution_count": 3,
      "outputs": [
        {
          "output_type": "display_data",
          "data": {
            "image/png": "[encoded data removed]",
            "text/plain": [
              "<Figure size 792x504 with 1 Axes>"
            ]
          },
          "metadata": {
            "tags": [],
            "needs_background": "dark"
          }
        }
      ]
    },
    {
      "cell_type": "code",
      "metadata": {
        "colab": {
          "base_uri": "https://localhost:8080/",
          "height": 206
        },
        "id": "9J_g68hEADpp",
        "outputId": "761b480d-b53e-4535-aeba-c0d737d8c233"
      },
      "source": [
        "import pandas as pd\n",
        "\n",
        "dataset = { 'Size': np.arange(2,7),'# Iterations': np.arange(2,7), 'Total time': total_time, \"Time per message\": time}\n",
        "\n",
        "result = pd.DataFrame(dataset)\n",
        "result['Size'] = result['Size'] + 1\n",
        "result['Bandwidth Mb/s'] = result['Size']/result['Total time'] * 1e-6\n",
        "result"
      ],
      "execution_count": 8,
      "outputs": [
        {
          "output_type": "execute_result",
          "data": {
            "text/html": [
              "<div>\n",
              "<style scoped>\n",
              "    .dataframe tbody tr th:only-of-type {\n",
              "        vertical-align: middle;\n",
              "    }\n",
              "\n",
              "    .dataframe tbody tr th {\n",
              "        vertical-align: top;\n",
              "    }\n",
              "\n",
              "    .dataframe thead th {\n",
              "        text-align: right;\n",
              "    }\n",
              "</style>\n",
              "<table border=\"1\" class=\"dataframe\">\n",
              "  <thead>\n",
              "    <tr style=\"text-align: right;\">\n",
              "      <th></th>\n",
              "      <th>Size</th>\n",
              "      <th># Iterations</th>\n",
              "      <th>Total time</th>\n",
              "      <th>Time per message</th>\n",
              "      <th>Bandwidth Mb/s</th>\n",
              "    </tr>\n",
              "  </thead>\n",
              "  <tbody>\n",
              "    <tr>\n",
              "      <th>0</th>\n",
              "      <td>3</td>\n",
              "      <td>2</td>\n",
              "      <td>0.000048</td>\n",
              "      <td>0.000024</td>\n",
              "      <td>0.062531</td>\n",
              "    </tr>\n",
              "    <tr>\n",
              "      <th>1</th>\n",
              "      <td>4</td>\n",
              "      <td>3</td>\n",
              "      <td>0.000109</td>\n",
              "      <td>0.000036</td>\n",
              "      <td>0.036744</td>\n",
              "    </tr>\n",
              "    <tr>\n",
              "      <th>2</th>\n",
              "      <td>5</td>\n",
              "      <td>4</td>\n",
              "      <td>0.000134</td>\n",
              "      <td>0.000034</td>\n",
              "      <td>0.037183</td>\n",
              "    </tr>\n",
              "    <tr>\n",
              "      <th>3</th>\n",
              "      <td>6</td>\n",
              "      <td>5</td>\n",
              "      <td>0.000199</td>\n",
              "      <td>0.000040</td>\n",
              "      <td>0.030104</td>\n",
              "    </tr>\n",
              "    <tr>\n",
              "      <th>4</th>\n",
              "      <td>7</td>\n",
              "      <td>6</td>\n",
              "      <td>0.000537</td>\n",
              "      <td>0.000089</td>\n",
              "      <td>0.013041</td>\n",
              "    </tr>\n",
              "  </tbody>\n",
              "</table>\n",
              "</div>"
            ],
            "text/plain": [
              "   Size  # Iterations  Total time  Time per message  Bandwidth Mb/s\n",
              "0     3             2    0.000048          0.000024        0.062531\n",
              "1     4             3    0.000109          0.000036        0.036744\n",
              "2     5             4    0.000134          0.000034        0.037183\n",
              "3     6             5    0.000199          0.000040        0.030104\n",
              "4     7             6    0.000537          0.000089        0.013041"
            ]
          },
          "metadata": {
            "tags": []
          },
          "execution_count": 8
        }
      ]
    }
  ]
}